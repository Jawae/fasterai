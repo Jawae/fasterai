{
 "cells": [
  {
   "cell_type": "markdown",
   "metadata": {},
   "source": [
    "# Example of filter pruning with fastai"
   ]
  },
  {
   "cell_type": "markdown",
   "metadata": {},
   "source": [
    "## Import the librairies"
   ]
  },
  {
   "cell_type": "code",
   "execution_count": 1,
   "metadata": {},
   "outputs": [],
   "source": [
    "import torch\n",
    "import torch.nn as nn\n",
    "import torch.nn.functional as F"
   ]
  },
  {
   "cell_type": "code",
   "execution_count": 2,
   "metadata": {},
   "outputs": [],
   "source": [
    "from fasterai.Pruner import *\n",
    "from fasterai.Sparsifier import *"
   ]
  },
  {
   "cell_type": "markdown",
   "metadata": {},
   "source": [
    "## Get the data"
   ]
  },
  {
   "cell_type": "code",
   "execution_count": 3,
   "metadata": {},
   "outputs": [],
   "source": [
    "path = untar_data(URLs.MNIST)"
   ]
  },
  {
   "cell_type": "code",
   "execution_count": 4,
   "metadata": {},
   "outputs": [],
   "source": [
    "data = (ImageList.from_folder(path)\n",
    "                .split_by_folder(train='training', valid='testing')\n",
    "                .label_from_folder()\n",
    "                .databunch()\n",
    "                .normalize())"
   ]
  },
  {
   "cell_type": "code",
   "execution_count": 5,
   "metadata": {},
   "outputs": [],
   "source": [
    "bs, epochs = 64,3"
   ]
  },
  {
   "cell_type": "markdown",
   "metadata": {},
   "source": [
    "## Create the CNN"
   ]
  },
  {
   "cell_type": "code",
   "execution_count": 6,
   "metadata": {},
   "outputs": [],
   "source": [
    "class Net(nn.Module):\n",
    "    def __init__(self, mnist=True):\n",
    "        super().__init__()\n",
    "          \n",
    "        self.conv1 = nn.Conv2d(3, 6, 5, 1)\n",
    "        self.conv2 = nn.Conv2d(6, 8, 5, 1)\n",
    "        self.conv3 = nn.Conv2d(8,12, 5, 1)\n",
    "        self.pool = nn.AdaptiveAvgPool2d((1))\n",
    "        self.fc1 = nn.Linear(12, 6)\n",
    "        self.fc2 = nn.Linear(6, 10)\n",
    "    \n",
    "    def forward(self, x):\n",
    "\n",
    "        x = F.relu(self.conv1(x))\n",
    "        x = F.max_pool2d(x, 2, 2)\n",
    "        x = F.relu(self.conv2(x))\n",
    "        x = F.relu(self.conv3(x))\n",
    "        x = self.pool(x)\n",
    "        x = x.view(x.shape[0], -1)\n",
    "        x = F.relu(self.fc1(x))\n",
    "        x = self.fc2(x)\n",
    "        return x"
   ]
  },
  {
   "cell_type": "code",
   "execution_count": 7,
   "metadata": {},
   "outputs": [],
   "source": [
    "learn = Learner(data, Net().cuda(), metrics=accuracy)"
   ]
  },
  {
   "cell_type": "markdown",
   "metadata": {},
   "source": [
    "## Define the pruning scheduling"
   ]
  },
  {
   "cell_type": "code",
   "execution_count": 8,
   "metadata": {},
   "outputs": [],
   "source": [
    "# Pruning type supported: \"weights\" and \"filters\".\n",
    "prune_meta = {\n",
    "        \"pruning_type\": \"filters\",\n",
    "        \"starting_step\" : 0,\n",
    "        \"current_step\": 0,\n",
    "        \"ending_step\": epochs * np.ceil(len(data.train_ds)/bs),\n",
    "        \"final_sparsity\": 50,\n",
    "        \"initial_sparsity\": 0,\n",
    "        \"span\": 100\n",
    "    }"
   ]
  },
  {
   "cell_type": "code",
   "execution_count": 9,
   "metadata": {},
   "outputs": [
    {
     "name": "stdout",
     "output_type": "stream",
     "text": [
      "Pruning of filters until a sparsity of 50%\n"
     ]
    },
    {
     "data": {
      "text/html": [
       "<table border=\"1\" class=\"dataframe\">\n",
       "  <thead>\n",
       "    <tr style=\"text-align: left;\">\n",
       "      <th>epoch</th>\n",
       "      <th>train_loss</th>\n",
       "      <th>valid_loss</th>\n",
       "      <th>accuracy</th>\n",
       "      <th>time</th>\n",
       "    </tr>\n",
       "  </thead>\n",
       "  <tbody>\n",
       "    <tr>\n",
       "      <td>0</td>\n",
       "      <td>1.090852</td>\n",
       "      <td>1.024179</td>\n",
       "      <td>0.710600</td>\n",
       "      <td>00:14</td>\n",
       "    </tr>\n",
       "    <tr>\n",
       "      <td>1</td>\n",
       "      <td>0.339771</td>\n",
       "      <td>0.315391</td>\n",
       "      <td>0.902300</td>\n",
       "      <td>00:14</td>\n",
       "    </tr>\n",
       "    <tr>\n",
       "      <td>2</td>\n",
       "      <td>0.256382</td>\n",
       "      <td>0.258534</td>\n",
       "      <td>0.917800</td>\n",
       "      <td>00:16</td>\n",
       "    </tr>\n",
       "  </tbody>\n",
       "</table>"
      ],
      "text/plain": [
       "<IPython.core.display.HTML object>"
      ]
     },
     "metadata": {},
     "output_type": "display_data"
    },
    {
     "name": "stdout",
     "output_type": "stream",
     "text": [
      "Sparsity: 38.58%\n",
      "Sparsity: 49.45%\n",
      "Sparsity: 50.00%\n"
     ]
    }
   ],
   "source": [
    "learn.fit(epochs, 1e-3, callbacks=SparsifyCallback(learn, meta=prune_meta))"
   ]
  },
  {
   "cell_type": "markdown",
   "metadata": {},
   "source": [
    "By printing the weight of a convolutional layer, we can see that some filters are entierly zero"
   ]
  },
  {
   "cell_type": "code",
   "execution_count": 10,
   "metadata": {},
   "outputs": [
    {
     "name": "stdout",
     "output_type": "stream",
     "text": [
      "Parameter containing:\n",
      "tensor([[[[-0.5228, -0.0126,  0.3633,  0.4228,  0.0974],\n",
      "          [-0.5749, -0.2330,  0.4947,  0.3954,  0.1764],\n",
      "          [-0.1482,  0.1135,  0.5132,  0.4862,  0.2257],\n",
      "          [-0.0302,  0.2682,  0.3962,  0.1128,  0.2342],\n",
      "          [ 0.1774,  0.1704,  0.1390,  0.0294,  0.1387]],\n",
      "\n",
      "         [[-0.4536, -0.0539,  0.4892,  0.4711,  0.0133],\n",
      "          [-0.3654, -0.1947,  0.4054,  0.4770,  0.2275],\n",
      "          [-0.1587, -0.0174,  0.5705,  0.3663,  0.1356],\n",
      "          [-0.1126,  0.2630,  0.4412,  0.1609,  0.2611],\n",
      "          [ 0.0327,  0.1720,  0.2241,  0.0225, -0.0215]],\n",
      "\n",
      "         [[-0.4995, -0.0284,  0.5097,  0.4110,  0.0322],\n",
      "          [-0.4508, -0.2233,  0.3995,  0.4642,  0.1835],\n",
      "          [-0.2945,  0.0252,  0.5992,  0.4894,  0.2228],\n",
      "          [ 0.0905,  0.3047,  0.2982,  0.1535,  0.2217],\n",
      "          [ 0.1498,  0.1724,  0.1488,  0.0428,  0.0609]]],\n",
      "\n",
      "\n",
      "        [[[-0.3981, -0.3902, -0.3447, -0.4797, -0.6005],\n",
      "          [-0.3788, -0.2374, -0.3164, -0.4427, -0.3264],\n",
      "          [-0.2972, -0.3298, -0.3228, -0.3755, -0.3320],\n",
      "          [-0.3177, -0.4180, -0.3145, -0.2198, -0.0456],\n",
      "          [-0.4884, -0.3939, -0.5112, -0.2899,  0.0023]],\n",
      "\n",
      "         [[-0.2524, -0.4338, -0.2197, -0.4709, -0.7260],\n",
      "          [-0.3906, -0.3344, -0.4131, -0.2528, -0.3417],\n",
      "          [-0.4895, -0.3974, -0.4338, -0.2671, -0.1593],\n",
      "          [-0.4346, -0.4443, -0.4449, -0.1804,  0.0580],\n",
      "          [-0.5179, -0.5524, -0.3620, -0.1895, -0.1023]],\n",
      "\n",
      "         [[-0.3328, -0.2540, -0.3001, -0.4446, -0.5566],\n",
      "          [-0.4195, -0.4307, -0.4194, -0.2960, -0.3423],\n",
      "          [-0.4881, -0.2787, -0.4473, -0.3849, -0.2989],\n",
      "          [-0.3008, -0.2846, -0.3931, -0.1780, -0.0445],\n",
      "          [-0.5812, -0.4567, -0.4739, -0.3769,  0.0503]]],\n",
      "\n",
      "\n",
      "        [[[-0.0000, -0.0000,  0.0000,  0.0000, -0.0000],\n",
      "          [-0.0000,  0.0000,  0.0000,  0.0000,  0.0000],\n",
      "          [ 0.0000,  0.0000,  0.0000,  0.0000,  0.0000],\n",
      "          [ 0.0000,  0.0000,  0.0000,  0.0000,  0.0000],\n",
      "          [ 0.0000,  0.0000,  0.0000,  0.0000,  0.0000]],\n",
      "\n",
      "         [[-0.0000, -0.0000,  0.0000,  0.0000, -0.0000],\n",
      "          [-0.0000,  0.0000,  0.0000,  0.0000,  0.0000],\n",
      "          [ 0.0000,  0.0000,  0.0000,  0.0000,  0.0000],\n",
      "          [ 0.0000,  0.0000,  0.0000,  0.0000,  0.0000],\n",
      "          [ 0.0000,  0.0000,  0.0000,  0.0000,  0.0000]],\n",
      "\n",
      "         [[-0.0000, -0.0000,  0.0000,  0.0000, -0.0000],\n",
      "          [-0.0000,  0.0000,  0.0000,  0.0000,  0.0000],\n",
      "          [ 0.0000,  0.0000,  0.0000,  0.0000,  0.0000],\n",
      "          [ 0.0000,  0.0000,  0.0000,  0.0000,  0.0000],\n",
      "          [ 0.0000,  0.0000,  0.0000,  0.0000,  0.0000]]],\n",
      "\n",
      "\n",
      "        [[[ 0.0000, -0.0000, -0.0000, -0.0000, -0.0000],\n",
      "          [ 0.0000,  0.0000, -0.0000, -0.0000, -0.0000],\n",
      "          [ 0.0000,  0.0000,  0.0000,  0.0000,  0.0000],\n",
      "          [ 0.0000,  0.0000,  0.0000,  0.0000,  0.0000],\n",
      "          [ 0.0000,  0.0000,  0.0000,  0.0000,  0.0000]],\n",
      "\n",
      "         [[ 0.0000, -0.0000, -0.0000, -0.0000, -0.0000],\n",
      "          [ 0.0000,  0.0000, -0.0000, -0.0000, -0.0000],\n",
      "          [ 0.0000,  0.0000,  0.0000,  0.0000,  0.0000],\n",
      "          [ 0.0000,  0.0000,  0.0000,  0.0000,  0.0000],\n",
      "          [ 0.0000,  0.0000,  0.0000,  0.0000,  0.0000]],\n",
      "\n",
      "         [[ 0.0000, -0.0000, -0.0000, -0.0000, -0.0000],\n",
      "          [ 0.0000,  0.0000, -0.0000, -0.0000, -0.0000],\n",
      "          [ 0.0000,  0.0000,  0.0000,  0.0000,  0.0000],\n",
      "          [ 0.0000,  0.0000,  0.0000,  0.0000,  0.0000],\n",
      "          [ 0.0000,  0.0000,  0.0000,  0.0000,  0.0000]]],\n",
      "\n",
      "\n",
      "        [[[-0.2693,  0.2822,  0.3555,  0.5237,  0.0475],\n",
      "          [-0.7779, -0.6198, -0.6130, -0.3205, -0.4470],\n",
      "          [ 0.1365, -0.3107, -0.5039, -0.2100, -0.3334],\n",
      "          [ 0.1875,  0.1774, -0.0122, -0.2073, -0.3041],\n",
      "          [ 0.2632,  0.4150,  0.4068,  0.1050,  0.0827]],\n",
      "\n",
      "         [[-0.1600,  0.3436,  0.2770,  0.4896, -0.0047],\n",
      "          [-0.6498, -0.8214, -0.5467, -0.4359, -0.5794],\n",
      "          [ 0.0754, -0.4586, -0.5223, -0.2083, -0.2984],\n",
      "          [ 0.3587,  0.1709,  0.0711, -0.1476, -0.2880],\n",
      "          [ 0.1006,  0.2781,  0.4097,  0.2263,  0.0451]],\n",
      "\n",
      "         [[-0.1191,  0.1769,  0.2927,  0.3570, -0.0123],\n",
      "          [-0.6457, -0.8200, -0.5351, -0.4195, -0.4159],\n",
      "          [ 0.0827, -0.3598, -0.5498, -0.3770, -0.4674],\n",
      "          [ 0.2896,  0.2493, -0.0510, -0.1233, -0.2632],\n",
      "          [ 0.1663,  0.3687,  0.3892,  0.0894,  0.0158]]],\n",
      "\n",
      "\n",
      "        [[[ 0.0000,  0.0000,  0.0000,  0.0000,  0.0000],\n",
      "          [ 0.0000,  0.0000,  0.0000,  0.0000, -0.0000],\n",
      "          [ 0.0000,  0.0000,  0.0000, -0.0000, -0.0000],\n",
      "          [ 0.0000, -0.0000, -0.0000, -0.0000, -0.0000],\n",
      "          [-0.0000, -0.0000, -0.0000, -0.0000, -0.0000]],\n",
      "\n",
      "         [[ 0.0000,  0.0000,  0.0000,  0.0000,  0.0000],\n",
      "          [ 0.0000,  0.0000,  0.0000,  0.0000, -0.0000],\n",
      "          [ 0.0000,  0.0000,  0.0000, -0.0000, -0.0000],\n",
      "          [ 0.0000, -0.0000, -0.0000, -0.0000, -0.0000],\n",
      "          [-0.0000, -0.0000, -0.0000, -0.0000, -0.0000]],\n",
      "\n",
      "         [[ 0.0000,  0.0000,  0.0000,  0.0000,  0.0000],\n",
      "          [ 0.0000,  0.0000,  0.0000,  0.0000, -0.0000],\n",
      "          [ 0.0000,  0.0000,  0.0000, -0.0000, -0.0000],\n",
      "          [ 0.0000, -0.0000, -0.0000, -0.0000, -0.0000],\n",
      "          [-0.0000, -0.0000, -0.0000, -0.0000, -0.0000]]]], device='cuda:0',\n",
      "       requires_grad=True)\n"
     ]
    }
   ],
   "source": [
    "print(learn.model.conv1.weight)"
   ]
  },
  {
   "cell_type": "markdown",
   "metadata": {},
   "source": [
    "## Remove the zero filters"
   ]
  },
  {
   "cell_type": "code",
   "execution_count": 11,
   "metadata": {},
   "outputs": [],
   "source": [
    "pruner = Pruner()"
   ]
  },
  {
   "cell_type": "code",
   "execution_count": 12,
   "metadata": {},
   "outputs": [],
   "source": [
    "pruned_model = pruner.prune_model(learn.model)"
   ]
  },
  {
   "cell_type": "code",
   "execution_count": 13,
   "metadata": {},
   "outputs": [],
   "source": [
    "new_learn = Learner(data, pruned_model, metrics =[accuracy])"
   ]
  },
  {
   "cell_type": "code",
   "execution_count": 14,
   "metadata": {},
   "outputs": [
    {
     "name": "stdout",
     "output_type": "stream",
     "text": [
      "The original model had 91.78 % accuracy\n"
     ]
    }
   ],
   "source": [
    "print(f'The original model had {100*learn.validate()[1]:.2f} % accuracy')"
   ]
  },
  {
   "cell_type": "code",
   "execution_count": 15,
   "metadata": {},
   "outputs": [
    {
     "name": "stdout",
     "output_type": "stream",
     "text": [
      "The original model had 91.78 % accuracy\n"
     ]
    }
   ],
   "source": [
    "print(f'The original model had {100*new_learn.validate()[1]:.2f} % accuracy')"
   ]
  },
  {
   "cell_type": "code",
   "execution_count": 16,
   "metadata": {},
   "outputs": [
    {
     "data": {
      "text/plain": [
       "======================================================================\n",
       "Layer (type)         Output Shape         Param #    Trainable \n",
       "======================================================================\n",
       "Conv2d               [6, 24, 24]          456        True      \n",
       "______________________________________________________________________\n",
       "Conv2d               [8, 8, 8]            1,208      True      \n",
       "______________________________________________________________________\n",
       "Conv2d               [12, 4, 4]           2,412      True      \n",
       "______________________________________________________________________\n",
       "AdaptiveAvgPool2d    [12, 1, 1]           0          False     \n",
       "______________________________________________________________________\n",
       "Linear               [6]                  78         True      \n",
       "______________________________________________________________________\n",
       "Linear               [10]                 70         True      \n",
       "______________________________________________________________________\n",
       "\n",
       "Total params: 4,224\n",
       "Total trainable params: 4,224\n",
       "Total non-trainable params: 0"
      ]
     },
     "execution_count": 16,
     "metadata": {},
     "output_type": "execute_result"
    }
   ],
   "source": [
    "learn.summary()"
   ]
  },
  {
   "cell_type": "code",
   "execution_count": 17,
   "metadata": {},
   "outputs": [
    {
     "data": {
      "text/plain": [
       "======================================================================\n",
       "Layer (type)         Output Shape         Param #    Trainable \n",
       "======================================================================\n",
       "Conv2d               [3, 24, 24]          228        True      \n",
       "______________________________________________________________________\n",
       "Conv2d               [4, 8, 8]            304        True      \n",
       "______________________________________________________________________\n",
       "Conv2d               [6, 4, 4]            606        True      \n",
       "______________________________________________________________________\n",
       "AdaptiveAvgPool2d    [6, 1, 1]            0          False     \n",
       "______________________________________________________________________\n",
       "Linear               [6]                  42         True      \n",
       "______________________________________________________________________\n",
       "Linear               [10]                 70         True      \n",
       "______________________________________________________________________\n",
       "\n",
       "Total params: 1,250\n",
       "Total trainable params: 1,250\n",
       "Total non-trainable params: 0"
      ]
     },
     "execution_count": 17,
     "metadata": {},
     "output_type": "execute_result"
    }
   ],
   "source": [
    "new_learn.summary()"
   ]
  }
 ],
 "metadata": {
  "kernelspec": {
   "display_name": "Python 3",
   "language": "python",
   "name": "python3"
  },
  "language_info": {
   "codemirror_mode": {
    "name": "ipython",
    "version": 3
   },
   "file_extension": ".py",
   "mimetype": "text/x-python",
   "name": "python",
   "nbconvert_exporter": "python",
   "pygments_lexer": "ipython3",
   "version": "3.7.3"
  }
 },
 "nbformat": 4,
 "nbformat_minor": 2
}
